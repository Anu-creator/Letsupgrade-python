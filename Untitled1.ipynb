{
  "nbformat": 4,
  "nbformat_minor": 0,
  "metadata": {
    "colab": {
      "name": "Untitled1.ipynb",
      "provenance": [],
      "authorship_tag": "ABX9TyNsISGnVGrba8QuEBiSPoER",
      "include_colab_link": true
    },
    "kernelspec": {
      "name": "python3",
      "display_name": "Python 3"
    }
  },
  "cells": [
    {
      "cell_type": "markdown",
      "metadata": {
        "id": "view-in-github",
        "colab_type": "text"
      },
      "source": [
        "<a href=\"https://colab.research.google.com/github/Anu-creator/Letsupgrade-python/blob/master/Untitled1.ipynb\" target=\"_parent\"><img src=\"https://colab.research.google.com/assets/colab-badge.svg\" alt=\"Open In Colab\"/></a>"
      ]
    },
    {
      "cell_type": "markdown",
      "metadata": {
        "id": "6ocU859wz9bl",
        "colab_type": "text"
      },
      "source": [
        ""
      ]
    },
    {
      "cell_type": "markdown",
      "metadata": {
        "id": "nzDQw2Rwz_Xm",
        "colab_type": "text"
      },
      "source": [
        "# Assignment Day **3**"
      ]
    },
    {
      "cell_type": "code",
      "metadata": {
        "id": "pRcNnIn20DeV",
        "colab_type": "code",
        "colab": {}
      },
      "source": [
        "#calculate the altitude\n"
      ],
      "execution_count": null,
      "outputs": []
    },
    {
      "cell_type": "code",
      "metadata": {
        "id": "Jh_I_Cbi0K72",
        "colab_type": "code",
        "colab": {
          "base_uri": "https://localhost:8080/",
          "height": 54
        },
        "outputId": "a22fe162-bb34-40fd-9221-80fafddeb0dd"
      },
      "source": [
        "altitude=input (\"Enter current altitude:\")\n",
        "alt=int(altitude)\n",
        "if alt<=1000 :\n",
        "    print(\"Safe to land\")\n",
        "elif alt>=1000 and alt<=5000:\n",
        "    print(\"Further down to 1000ft\")\n",
        "else:\n",
        "    print(\"Turn around\")"
      ],
      "execution_count": 6,
      "outputs": [
        {
          "output_type": "stream",
          "text": [
            "Enter current altitude:1000\n",
            "Safe to land\n"
          ],
          "name": "stdout"
        }
      ]
    },
    {
      "cell_type": "code",
      "metadata": {
        "id": "B9rUStK-41Q0",
        "colab_type": "code",
        "colab": {
          "base_uri": "https://localhost:8080/",
          "height": 54
        },
        "outputId": "fe0bd8e6-481c-4e1e-ead7-aacdd02dcb69"
      },
      "source": [
        "altitude=input (\"Enter current altitude:\")\n",
        "alt=int(altitude)\n",
        "if alt<=1000 :\n",
        "    print(\"Safe to land\")\n",
        "elif alt>=1000 and alt<=5000:\n",
        "    print(\"Further down to 1000ft\")\n",
        "else:\n",
        "    print(\"Turn around\")"
      ],
      "execution_count": 7,
      "outputs": [
        {
          "output_type": "stream",
          "text": [
            "Enter current altitude:4500\n",
            "Further down to 1000ft\n"
          ],
          "name": "stdout"
        }
      ]
    },
    {
      "cell_type": "code",
      "metadata": {
        "id": "lu9mEPzm49nO",
        "colab_type": "code",
        "colab": {
          "base_uri": "https://localhost:8080/",
          "height": 54
        },
        "outputId": "55c6be88-b8c7-428c-ee0a-08d2b6ab98ab"
      },
      "source": [
        "altitude=input (\"Enter current altitude:\")\n",
        "alt=int(altitude)\n",
        "if alt<=1000 :\n",
        "    print(\"Safe to land\")\n",
        "elif alt>=1000 and alt<=5000:\n",
        "    print(\"Further down to 1000ft\")\n",
        "else:\n",
        "    print(\"Turn around\")"
      ],
      "execution_count": 9,
      "outputs": [
        {
          "output_type": "stream",
          "text": [
            "Enter current altitude:6500\n",
            "Turn around\n"
          ],
          "name": "stdout"
        }
      ]
    }
  ]
}